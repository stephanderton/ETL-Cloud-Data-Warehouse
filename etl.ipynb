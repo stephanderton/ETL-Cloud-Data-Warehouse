{
 "cells": [
  {
   "cell_type": "markdown",
   "metadata": {},
   "source": [
    "# Data Warehouse with Redshift - ETL\n",
    "Use this notebook to develop the ETL process for each of your tables before completing the `etl.py` file to load the whole datasets.\n",
    "\n",
    ">\n",
    "> **Stephanie Anderton**  \n",
    "> DEND Project \\#3  \n",
    "> May 29, 2019\n",
    ">"
   ]
  },
  {
   "cell_type": "code",
   "execution_count": 1,
   "metadata": {},
   "outputs": [],
   "source": [
    "import configparser\n",
    "import psycopg2\n",
    "import pandas as pd\n",
    "import json\n",
    "import time\n",
    "import mylib\n",
    "from   mylib import logger\n",
    "import re\n",
    "from   sql_queries import copy_table_queries, insert_table_queries\n",
    "from   sql_queries import count_table_queries"
   ]
  },
  {
   "cell_type": "code",
   "execution_count": 2,
   "metadata": {},
   "outputs": [],
   "source": [
    "# On first run through, this MUST be set to 1 \n",
    "# UNLESS you created the tables from the command line!\n",
    "\n",
    "b_staging_tables = False"
   ]
  },
  {
   "cell_type": "markdown",
   "metadata": {},
   "source": [
    "## Function Definitions"
   ]
  },
  {
   "cell_type": "code",
   "execution_count": 3,
   "metadata": {},
   "outputs": [],
   "source": [
    "def load_staging_tables(cur, conn):\n",
    "    logger.info('Load staging tables...')\n",
    "    \n",
    "    for query in copy_table_queries:\n",
    "        # the table name is the 2nd word in the query string\n",
    "        table = re.findall(r'\\w+', query)[1]\n",
    "        logger.info('load staging table [ {} ]'.format(table))\n",
    "        \n",
    "        try:\n",
    "            cur.execute(query)\n",
    "            conn.commit()\n",
    "        except psycopg2.Error as e: \n",
    "            logger.info('Error :  Staging table [ {} ]'.format(table))\n",
    "            print(e)\n",
    "            print(query)\n"
   ]
  },
  {
   "cell_type": "code",
   "execution_count": 4,
   "metadata": {},
   "outputs": [],
   "source": [
    "def insert_tables(cur, conn):\n",
    "    logger.info('Load final tables...')\n",
    "    \n",
    "    for query in insert_table_queries:\n",
    "        # the table name is the 3rd word in the query string\n",
    "        table = re.findall(r'\\w+', query)[2]\n",
    "        logger.info('insert to table [ {} ]'.format(table))\n",
    "        \n",
    "        try:\n",
    "            cur.execute(query)\n",
    "            conn.commit()\n",
    "        except psycopg2.Error as e: \n",
    "            logger.info('Error :  Inserting to table [ {} ]'.format(table))\n",
    "            print(e)\n",
    "            print(query)\n"
   ]
  },
  {
   "cell_type": "code",
   "execution_count": 5,
   "metadata": {},
   "outputs": [],
   "source": [
    "def count_table_rows(cur, conn):\n",
    "    logger.info('Check table counts...')\n",
    "    \n",
    "    for query in count_table_queries:\n",
    "        # the table name is the last word in the query string\n",
    "        table = re.findall(r'\\w+', query)[-1]\n",
    "        \n",
    "        try:\n",
    "            cur.execute(query)\n",
    "            conn.commit()\n",
    "            # the query returns the row count\n",
    "            result = cur.fetchall()\n",
    "            rows = result[0][0]\n",
    "            logger.info(\"table [ {} ] count:  {}\".format(table, rows))\n",
    "            \n",
    "        except psycopg2.Error as e: \n",
    "            logger.info('Error :  Issue counting table [ {} ]'.format(table))\n",
    "            print(e)\n",
    "            print(query)\n"
   ]
  },
  {
   "cell_type": "code",
   "execution_count": 6,
   "metadata": {},
   "outputs": [],
   "source": [
    "def disable_result_cache(cur, conn):\n",
    "    try:\n",
    "        cur.execute(\"SET enable_result_cache_for_session TO OFF;\")\n",
    "        conn.commit()\n",
    "        logger.info('Disable cache for session')\n",
    "    except psycopg2.Error as e: \n",
    "        logger.info(\"Error :  setting result cache to OFF\")\n",
    "        print(e)\n"
   ]
  },
  {
   "cell_type": "code",
   "execution_count": 7,
   "metadata": {},
   "outputs": [],
   "source": [
    "def log_config_params(config):\n",
    "    LOG_DATA     = config['S3']['LOG_DATA']\n",
    "    LOG_JSONPATH = config['S3']['LOG_JSONPATH']\n",
    "    SONG_DATA    = config['S3']['SONG_DATA']\n",
    "\n",
    "    logger.info('LOG_DATA:  {}'.format(LOG_DATA))\n",
    "    logger.info('LOG_JSONPATH:  {}'.format(LOG_JSONPATH))\n",
    "    logger.info('SONG_DATA:  {}'.format(SONG_DATA))\n"
   ]
  },
  {
   "cell_type": "markdown",
   "metadata": {},
   "source": [
    "## Main()\n",
    "### Setup DB connection"
   ]
  },
  {
   "cell_type": "code",
   "execution_count": 8,
   "metadata": {},
   "outputs": [
    {
     "name": "stdout",
     "output_type": "stream",
     "text": [
      "Logfile:  ./logs/etl-20190530.log\n",
      "host=dwhcluster.cbsjbxldkge8.us-west-2.redshift.amazonaws.com dbname=sparkify user=dwhuser password=Passw0rd port=5439\n"
     ]
    }
   ],
   "source": [
    "logger.info('---[ Begin ETL ]---')\n",
    "mylib.log_timestamp()\n",
    "print(\"Logfile:  \" + mylib.get_log_file_name())\n",
    "\n",
    "config = configparser.ConfigParser()\n",
    "config.read('dwh.cfg')\n",
    "\n",
    "log_config_params(config)\n",
    "\n",
    "try:\n",
    "    conn_string = \"host={} dbname={} user={} password={} port={}\"\n",
    "    conn_string = conn_string.format(*config['CLUSTER'].values())\n",
    "    conn = psycopg2.connect( conn_string )\n",
    "    cur = conn.cursor()\n",
    "    \n",
    "    print(conn_string)\n",
    "    logger.info('DB connection :  open')\n",
    "    \n",
    "except Exception as e:\n",
    "    print(\"Error :  Could not make connection to the sparkify DB\")\n",
    "    print(e)\n",
    "\n",
    "disable_result_cache(cur, conn)"
   ]
  },
  {
   "cell_type": "markdown",
   "metadata": {},
   "source": [
    "### Load Tables"
   ]
  },
  {
   "cell_type": "code",
   "execution_count": 9,
   "metadata": {},
   "outputs": [],
   "source": [
    "if b_staging_tables == True:\n",
    "    load_staging_tables(cur, conn)\n",
    "    \n",
    "    # Now we can set flag to **False**, so on the next run through\n",
    "    # I can then work on the dimensional tables only\n",
    "    b_staging_tables = False\n",
    "\n",
    "insert_tables(cur, conn)\n",
    "count_table_rows(cur, conn)"
   ]
  },
  {
   "cell_type": "code",
   "execution_count": 10,
   "metadata": {},
   "outputs": [],
   "source": [
    "# All done...\n",
    "conn.close()\n",
    "logger.info('DB connection :  closed')"
   ]
  },
  {
   "cell_type": "code",
   "execution_count": null,
   "metadata": {},
   "outputs": [],
   "source": []
  }
 ],
 "metadata": {
  "kernelspec": {
   "display_name": "Python 3",
   "language": "python",
   "name": "python3"
  },
  "language_info": {
   "codemirror_mode": {
    "name": "ipython",
    "version": 3
   },
   "file_extension": ".py",
   "mimetype": "text/x-python",
   "name": "python",
   "nbconvert_exporter": "python",
   "pygments_lexer": "ipython3",
   "version": "3.7.2"
  },
  "toc": {
   "base_numbering": 1,
   "nav_menu": {},
   "number_sections": true,
   "sideBar": true,
   "skip_h1_title": false,
   "title_cell": "Table of Contents",
   "title_sidebar": "Contents",
   "toc_cell": false,
   "toc_position": {},
   "toc_section_display": true,
   "toc_window_display": false
  },
  "varInspector": {
   "cols": {
    "lenName": 16,
    "lenType": 16,
    "lenVar": 40
   },
   "kernels_config": {
    "python": {
     "delete_cmd_postfix": "",
     "delete_cmd_prefix": "del ",
     "library": "var_list.py",
     "varRefreshCmd": "print(var_dic_list())"
    },
    "r": {
     "delete_cmd_postfix": ") ",
     "delete_cmd_prefix": "rm(",
     "library": "var_list.r",
     "varRefreshCmd": "cat(var_dic_list()) "
    }
   },
   "oldHeight": 359.33633399999997,
   "position": {
    "height": "40px",
    "left": "1078.84px",
    "right": "20px",
    "top": "120px",
    "width": "354.492px"
   },
   "types_to_exclude": [
    "module",
    "function",
    "builtin_function_or_method",
    "instance",
    "_Feature"
   ],
   "varInspector_section_display": "none",
   "window_display": false
  }
 },
 "nbformat": 4,
 "nbformat_minor": 2
}
