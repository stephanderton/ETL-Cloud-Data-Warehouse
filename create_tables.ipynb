{
 "cells": [
  {
   "cell_type": "markdown",
   "metadata": {},
   "source": [
    "# Data Warehouse with Redshift - Create Tables\n",
    "Use this notebook to develop the code before completing the `create_tables.py` file to create each of your tables.\n",
    "\n",
    ">\n",
    "> **Stephanie Anderton**  \n",
    "> DEND Project \\#3  \n",
    "> May 28, 2019\n",
    ">"
   ]
  },
  {
   "cell_type": "code",
   "execution_count": 1,
   "metadata": {},
   "outputs": [],
   "source": [
    "import configparser\n",
    "import psycopg2\n",
    "from sql_queries import create_table_queries, drop_table_queries\n",
    "import time\n",
    "import re\n",
    "import mylib\n",
    "from mylib import logger"
   ]
  },
  {
   "cell_type": "code",
   "execution_count": 2,
   "metadata": {},
   "outputs": [],
   "source": [
    "def drop_tables(cur, conn):\n",
    "    for query in drop_table_queries:\n",
    "        # the table name is the 5th word in the query string\n",
    "        table = re.findall(r'\\w+', query)[4]\n",
    "        logger.info('delete table [ {} ]'.format(table))\n",
    "        try:\n",
    "            cur.execute(query)\n",
    "            conn.commit()\n",
    "        except psycopg2.Error as e: \n",
    "            logger.info('Error: Dropping table [ {} ]'.format(table))\n",
    "            print(e)\n",
    "            print(query)\n"
   ]
  },
  {
   "cell_type": "code",
   "execution_count": 3,
   "metadata": {},
   "outputs": [],
   "source": [
    "def create_tables(cur, conn):\n",
    "    for query in create_table_queries:\n",
    "        # the table name is the 6th word in the query string\n",
    "        table = re.findall(r'\\w+', query)[5]\n",
    "        logger.info('create table [ {} ]'.format(table))\n",
    "        try:\n",
    "            cur.execute(query)\n",
    "            conn.commit()\n",
    "        except psycopg2.Error as e: \n",
    "            logger.info('Error: Creating table [ {} ]'.format(table))\n",
    "            print(e)\n",
    "            print(query)\n"
   ]
  },
  {
   "cell_type": "markdown",
   "metadata": {},
   "source": [
    "## Main()"
   ]
  },
  {
   "cell_type": "code",
   "execution_count": 4,
   "metadata": {},
   "outputs": [
    {
     "name": "stdout",
     "output_type": "stream",
     "text": [
      "host=dwhcluster.cbsjbxldkge8.us-west-2.redshift.amazonaws.com dbname=sparkify user=dwhuser password=Passw0rd port=5439\n"
     ]
    }
   ],
   "source": [
    "logger.info('---[ Create Tables ]---')\n",
    "mylib.log_timestamp(config)\n",
    "print(\"Logfile:  \" + mylib.log_file_name())\n",
    "\n",
    "# read config parameters for database connection string\n",
    "config = configparser.ConfigParser()\n",
    "config.read('dwh.cfg')\n",
    "\n",
    "try:\n",
    "    conn_string = \"host={} dbname={} user={} password={} port={}\"\n",
    "    conn_string = conn_string.format(*config['CLUSTER'].values())\n",
    "    conn = psycopg2.connect( conn_string )\n",
    "    cur = conn.cursor()\n",
    "    print(conn_string)\n",
    "\n",
    "except Exception as e:\n",
    "    logger.info(\"Error: Could not make connection to the sparkify DB\")\n",
    "    print(e)\n",
    "\n",
    "logger.info('Drop existing tables...')\n",
    "drop_tables(cur, conn)\n",
    "\n",
    "logger.info('Create tables...')\n",
    "create_tables(cur, conn)\n",
    "\n",
    "conn.close()\n",
    "logger.info('DB connection closed')\n"
   ]
  },
  {
   "cell_type": "code",
   "execution_count": null,
   "metadata": {},
   "outputs": [],
   "source": []
  }
 ],
 "metadata": {
  "kernelspec": {
   "display_name": "Python 3",
   "language": "python",
   "name": "python3"
  },
  "language_info": {
   "codemirror_mode": {
    "name": "ipython",
    "version": 3
   },
   "file_extension": ".py",
   "mimetype": "text/x-python",
   "name": "python",
   "nbconvert_exporter": "python",
   "pygments_lexer": "ipython3",
   "version": "3.7.2"
  },
  "toc": {
   "base_numbering": 1,
   "nav_menu": {},
   "number_sections": true,
   "sideBar": true,
   "skip_h1_title": false,
   "title_cell": "Table of Contents",
   "title_sidebar": "Contents",
   "toc_cell": false,
   "toc_position": {},
   "toc_section_display": true,
   "toc_window_display": false
  },
  "varInspector": {
   "cols": {
    "lenName": 16,
    "lenType": 16,
    "lenVar": 40
   },
   "kernels_config": {
    "python": {
     "delete_cmd_postfix": "",
     "delete_cmd_prefix": "del ",
     "library": "var_list.py",
     "varRefreshCmd": "print(var_dic_list())"
    },
    "r": {
     "delete_cmd_postfix": ") ",
     "delete_cmd_prefix": "rm(",
     "library": "var_list.r",
     "varRefreshCmd": "cat(var_dic_list()) "
    }
   },
   "types_to_exclude": [
    "module",
    "function",
    "builtin_function_or_method",
    "instance",
    "_Feature"
   ],
   "window_display": false
  }
 },
 "nbformat": 4,
 "nbformat_minor": 2
}
