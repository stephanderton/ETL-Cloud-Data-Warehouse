{
 "cells": [
  {
   "cell_type": "markdown",
   "metadata": {},
   "source": [
    "# Data Warehouse with Redshift - Create Tables\n",
    "Use this notebook to develop the code before completing the `create_tables.py` file to create each of your tables.\n",
    "\n",
    ">\n",
    "> **Stephanie Anderton**  \n",
    "> DEND Project \\#3  \n",
    "> May 29, 2019\n",
    ">"
   ]
  },
  {
   "cell_type": "code",
   "execution_count": 1,
   "metadata": {},
   "outputs": [],
   "source": [
    "import configparser\n",
    "import psycopg2\n",
    "from   sql_queries import create_table_queries, drop_table_queries\n",
    "from   sql_queries import create_db_table_queries, drop_db_table_queries\n",
    "import time\n",
    "import re\n",
    "import mylib\n",
    "from   mylib import logger"
   ]
  },
  {
   "cell_type": "markdown",
   "metadata": {},
   "source": [
    "## Set Flag for Loading Staging Tables\n",
    "**NOTE:  Staging tables MUST exist before running this flag with False.**"
   ]
  },
  {
   "cell_type": "code",
   "execution_count": 2,
   "metadata": {},
   "outputs": [],
   "source": [
    "# On first run through, this MUST be set to 1 \n",
    "# unless you created the tables from the command line!\n",
    "\n",
    "b_staging_tables = False"
   ]
  },
  {
   "cell_type": "markdown",
   "metadata": {},
   "source": [
    "## Function Definitions"
   ]
  },
  {
   "cell_type": "code",
   "execution_count": 3,
   "metadata": {},
   "outputs": [],
   "source": [
    "def drop_tables(cur, conn, table_queries):\n",
    "    logger.info('Drop existing tables...')\n",
    "    \n",
    "    for query in table_queries:\n",
    "        # the table name is the 5th word in the query string\n",
    "        table = re.findall(r'\\w+', query)[4]\n",
    "        logger.info('delete table [ {} ]'.format(table))\n",
    "        \n",
    "        try:\n",
    "            cur.execute(query)\n",
    "            conn.commit()\n",
    "        except psycopg2.Error as e: \n",
    "            logger.info('Error: Dropping table [ {} ]'.format(table))\n",
    "            print(e)\n",
    "            print(query)\n"
   ]
  },
  {
   "cell_type": "code",
   "execution_count": 4,
   "metadata": {},
   "outputs": [],
   "source": [
    "def create_tables(cur, conn, table_queries):\n",
    "    logger.info('Create tables...')\n",
    "    \n",
    "    for query in table_queries:\n",
    "        # the table name is the 6th word in the query string\n",
    "        table = re.findall(r'\\w+', query)[5]\n",
    "        logger.info('create table [ {} ]'.format(table))\n",
    "        \n",
    "        try:\n",
    "            cur.execute(query)\n",
    "            conn.commit()\n",
    "        except psycopg2.Error as e: \n",
    "            logger.info('Error: Creating table [ {} ]'.format(table))\n",
    "            print(e)\n",
    "            print(query)\n"
   ]
  },
  {
   "cell_type": "markdown",
   "metadata": {},
   "source": [
    "## Main()\n",
    "### Setup DB connection"
   ]
  },
  {
   "cell_type": "code",
   "execution_count": 5,
   "metadata": {},
   "outputs": [
    {
     "name": "stdout",
     "output_type": "stream",
     "text": [
      "Logfile:  ./logs/etl-20190530.log\n",
      "host=dwhcluster.cbsjbxldkge8.us-west-2.redshift.amazonaws.com dbname=sparkify user=dwhuser password=Passw0rd port=5439\n"
     ]
    }
   ],
   "source": [
    "logger.info('---[ Create Tables ]---')\n",
    "mylib.log_timestamp()\n",
    "print(\"Logfile:  \" + mylib.get_log_file_name())\n",
    "\n",
    "# read config parameters for database connection string\n",
    "config = configparser.ConfigParser()\n",
    "config.read('dwh.cfg')\n",
    "\n",
    "try:\n",
    "    conn_string = \"host={} dbname={} user={} password={} port={}\"\n",
    "    conn_string = conn_string.format(*config['CLUSTER'].values())\n",
    "    conn = psycopg2.connect( conn_string )\n",
    "    cur = conn.cursor()\n",
    "    \n",
    "    print(conn_string)\n",
    "    logger.info('DB connection :  open')\n",
    "\n",
    "except Exception as e:\n",
    "    logger.info(\"Error: Could not make connection to the sparkify DB\")\n",
    "    print(e)"
   ]
  },
  {
   "cell_type": "markdown",
   "metadata": {},
   "source": [
    "### Drop & Create Tables"
   ]
  },
  {
   "cell_type": "code",
   "execution_count": 6,
   "metadata": {},
   "outputs": [],
   "source": [
    "if b_staging_tables == True:\n",
    "    drop_tables(cur, conn, drop_table_queries)\n",
    "    create_tables(cur, conn, create_table_queries)\n",
    "    \n",
    "    # Now we can set flag to **False**, so on the next run through\n",
    "    # I can then work on the dimensional tables only\n",
    "    b_staging_tables = False\n",
    "\n",
    "else:\n",
    "    drop_tables(cur, conn, drop_db_table_queries)\n",
    "    create_tables(cur, conn, create_db_table_queries)"
   ]
  },
  {
   "cell_type": "code",
   "execution_count": 7,
   "metadata": {},
   "outputs": [],
   "source": [
    "# All done...\n",
    "conn.close()\n",
    "logger.info('DB connection :  closed')"
   ]
  },
  {
   "cell_type": "code",
   "execution_count": null,
   "metadata": {},
   "outputs": [],
   "source": []
  }
 ],
 "metadata": {
  "kernelspec": {
   "display_name": "Python 3",
   "language": "python",
   "name": "python3"
  },
  "language_info": {
   "codemirror_mode": {
    "name": "ipython",
    "version": 3
   },
   "file_extension": ".py",
   "mimetype": "text/x-python",
   "name": "python",
   "nbconvert_exporter": "python",
   "pygments_lexer": "ipython3",
   "version": "3.7.2"
  },
  "toc": {
   "base_numbering": 1,
   "nav_menu": {},
   "number_sections": true,
   "sideBar": true,
   "skip_h1_title": false,
   "title_cell": "Table of Contents",
   "title_sidebar": "Contents",
   "toc_cell": false,
   "toc_position": {},
   "toc_section_display": true,
   "toc_window_display": false
  },
  "varInspector": {
   "cols": {
    "lenName": 16,
    "lenType": 16,
    "lenVar": 40
   },
   "kernels_config": {
    "python": {
     "delete_cmd_postfix": "",
     "delete_cmd_prefix": "del ",
     "library": "var_list.py",
     "varRefreshCmd": "print(var_dic_list())"
    },
    "r": {
     "delete_cmd_postfix": ") ",
     "delete_cmd_prefix": "rm(",
     "library": "var_list.r",
     "varRefreshCmd": "cat(var_dic_list()) "
    }
   },
   "position": {
    "height": "432.5px",
    "left": "1122.67px",
    "right": "20px",
    "top": "120px",
    "width": "352.331px"
   },
   "types_to_exclude": [
    "module",
    "function",
    "builtin_function_or_method",
    "instance",
    "_Feature"
   ],
   "window_display": false
  }
 },
 "nbformat": 4,
 "nbformat_minor": 2
}
