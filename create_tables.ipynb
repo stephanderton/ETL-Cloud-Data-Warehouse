{
 "cells": [
  {
   "cell_type": "markdown",
   "metadata": {},
   "source": [
    "# Data Warehouse with Redshift - Create Tables\n",
    "Use this notebook to develop the code before completing the `create_tables.py` file to create each of your tables.\n",
    "\n",
    ">\n",
    "> **Stephanie Anderton**  \n",
    "> DEND Project \\#3  \n",
    "> May 30, 2019\n",
    ">"
   ]
  },
  {
   "cell_type": "code",
   "execution_count": 1,
   "metadata": {},
   "outputs": [],
   "source": [
    "import configparser\n",
    "import psycopg2\n",
    "from sql_queries import create_table_queries, drop_table_queries"
   ]
  },
  {
   "cell_type": "code",
   "execution_count": 2,
   "metadata": {},
   "outputs": [],
   "source": [
    "def drop_tables(cur, conn):\n",
    "    for query in drop_table_queries:\n",
    "        try:\n",
    "            cur.execute(query)\n",
    "            conn.commit()\n",
    "        except psycopg2.Error as e: \n",
    "            print(\"Error: Dropping table\")\n",
    "            print(query)\n",
    "            print(e)\n",
    "        finally:\n",
    "            print(query)\n"
   ]
  },
  {
   "cell_type": "code",
   "execution_count": 3,
   "metadata": {},
   "outputs": [],
   "source": [
    "def create_tables(cur, conn):       \n",
    "    for query in create_table_queries:\n",
    "        try:\n",
    "            cur.execute(query)\n",
    "            conn.commit()\n",
    "        except psycopg2.Error as e: \n",
    "            print(\"Error: Issue creating table\")\n",
    "            print(query)\n",
    "            print(e)\n",
    "        finally:\n",
    "            print(query)\n"
   ]
  },
  {
   "cell_type": "markdown",
   "metadata": {},
   "source": [
    "## Main()"
   ]
  },
  {
   "cell_type": "code",
   "execution_count": 5,
   "metadata": {},
   "outputs": [
    {
     "name": "stdout",
     "output_type": "stream",
     "text": [
      "host=dwhcluster.cbsjbxldkge8.us-west-2.redshift.amazonaws.com dbname=sparkify user=dwhuser password=Passw0rd port=5439\n",
      "DROP TABLE IF EXISTS staging_events\n",
      "DROP TABLE IF EXISTS staging_songs\n",
      "DROP TABLE IF EXISTS songplays\n",
      "DROP TABLE IF EXISTS users\n",
      "DROP TABLE IF EXISTS songs\n",
      "DROP TABLE IF EXISTS artists\n",
      "DROP TABLE IF EXISTS time\n",
      "\n",
      "    CREATE TABLE IF NOT EXISTS staging_events\n",
      "    (\n",
      "        stg_e_event_key         INTEGER          IDENTITY(0,1),\n",
      "        stg_e_artist            VARCHAR,\n",
      "        stg_e_auth              VARCHAR,\n",
      "        stg_e_first_name        VARCHAR,\n",
      "        stg_e_gender            VARCHAR,\n",
      "        stg_e_item_in_session   INTEGER,\n",
      "        stg_e_last_name         VARCHAR,\n",
      "        stg_e_length            DOUBLE PRECISION,\n",
      "        stg_e_level             VARCHAR,\n",
      "        stg_e_location          VARCHAR,\n",
      "        stg_e_method            VARCHAR,\n",
      "        stg_e_page              VARCHAR,\n",
      "        stg_e_registration      INTEGER,\n",
      "        stg_e_session_id        INTEGER,\n",
      "        stg_e_song              VARCHAR,\n",
      "        stg_e_status            INTEGER,\n",
      "        stg_e_ts                INTEGER,\n",
      "        stg_e_user_agent        VARCHAR,\n",
      "        stg_e_user_id           INTEGER\n",
      "    )\n",
      "    SORTKEY( stg_e_ts, stg_e_user_id );\n",
      "\n",
      "\n",
      "    CREATE TABLE IF NOT EXISTS staging_songs\n",
      "    (\n",
      "        stg_s_song_id            VARCHAR,\n",
      "        stg_s_artist_id          VARCHAR,\n",
      "        stg_s_artist_latitude    DOUBLE PRECISION,\n",
      "        stg_s_artist_longitude   DOUBLE PRECISION,\n",
      "        stg_s_artist_location    VARCHAR,\n",
      "        stg_s_artist_name        VARCHAR,\n",
      "        stg_s_title              VARCHAR            SORTKEY,\n",
      "        stg_s_duration           DOUBLE PRECISION,\n",
      "        stg_s_year               INTEGER\n",
      "    );\n",
      "\n",
      "\n",
      "    CREATE TABLE IF NOT EXISTS songplays\n",
      "    (\n",
      "        sp_songplay_id  INTEGER         IDENTITY(0,1),\n",
      "        sp_start_time   TIMESTAMP       NOT NULL,\n",
      "        sp_user_id      INTEGER         NOT NULL,\n",
      "        sp_level        VARCHAR(8)      NOT NULL,\n",
      "        sp_song_id      VARCHAR(22)     NOT NULL,\n",
      "        sp_artist_id    VARCHAR(22)     NOT NULL    DISTKEY,\n",
      "        sp_session_id   INTEGER         NOT NULL,\n",
      "        sp_location     VARCHAR,\n",
      "        sp_user_agent   VARCHAR\n",
      "    )\n",
      "    SORTKEY( sp_start_time, sp_user_id );\n",
      "\n",
      "\n",
      "    CREATE TABLE IF NOT EXISTS users\n",
      "    (\n",
      "        u_user_id       INTEGER         NOT NULL    SORTKEY,\n",
      "        u_first_name    VARCHAR         NOT NULL,\n",
      "        u_last_name     VARCHAR         NOT NULL,\n",
      "        u_gender        VARCHAR(1),\n",
      "        u_level         VARCHAR(8)      NOT NULL\n",
      "    )\n",
      "    DISTSTYLE ALL;\n",
      "\n",
      "\n",
      "    CREATE TABLE IF NOT EXISTS songs\n",
      "    (\n",
      "        s_song_id       VARCHAR(22)     NOT NULL    SORTKEY,\n",
      "        s_title         VARCHAR         NOT NULL,\n",
      "        s_artist_id     VARCHAR(22)     NOT NULL    DISTKEY,\n",
      "        s_year          INTEGER,\n",
      "        s_duration      DOUBLE PRECISION\n",
      "    );\n",
      "\n",
      "\n",
      "    CREATE TABLE IF NOT EXISTS artists\n",
      "    (\n",
      "        a_artist_id     VARCHAR(22)     NOT NULL    SORTKEY     DISTKEY,\n",
      "        a_name          VARCHAR         NOT NULL,\n",
      "        a_location      VARCHAR,\n",
      "        a_latitude      DOUBLE PRECISION,\n",
      "        a_longitude     DOUBLE PRECISION\n",
      "    );\n",
      "\n",
      "\n",
      "    CREATE TABLE IF NOT EXISTS time\n",
      "    (\n",
      "        t_start_time    TIMESTAMP       NOT NULL    SORTKEY,\n",
      "        t_hour          SMALLINT        NOT NULL,\n",
      "        t_day           SMALLINT        NOT NULL,\n",
      "        t_week          SMALLINT        NOT NULL,\n",
      "        t_month         SMALLINT        NOT NULL,\n",
      "        t_year          SMALLINT        NOT NULL,\n",
      "        t_weekday       SMALLINT        NOT NULL\n",
      "    )\n",
      "    DISTSTYLE AUTO;\n",
      "\n"
     ]
    }
   ],
   "source": [
    "config = configparser.ConfigParser()\n",
    "config.read('dwh.cfg')\n",
    "\n",
    "try:\n",
    "    conn_string = \"host={} dbname={} user={} password={} port={}\"\n",
    "    conn_string = conn_string.format(*config['CLUSTER'].values())\n",
    "    conn = psycopg2.connect( conn_string )\n",
    "    cur = conn.cursor()\n",
    "    print(conn_string)\n",
    "\n",
    "except Exception as e:\n",
    "    print(\"Error: Could not make connection to the sparkify DWH\")\n",
    "    print(e)\n",
    "\n",
    "drop_tables(cur, conn)\n",
    "create_tables(cur, conn)\n",
    "\n",
    "conn.close()"
   ]
  },
  {
   "cell_type": "code",
   "execution_count": null,
   "metadata": {},
   "outputs": [],
   "source": []
  }
 ],
 "metadata": {
  "kernelspec": {
   "display_name": "Python 3",
   "language": "python",
   "name": "python3"
  },
  "language_info": {
   "codemirror_mode": {
    "name": "ipython",
    "version": 3
   },
   "file_extension": ".py",
   "mimetype": "text/x-python",
   "name": "python",
   "nbconvert_exporter": "python",
   "pygments_lexer": "ipython3",
   "version": "3.7.2"
  },
  "toc": {
   "base_numbering": 1,
   "nav_menu": {},
   "number_sections": true,
   "sideBar": true,
   "skip_h1_title": false,
   "title_cell": "Table of Contents",
   "title_sidebar": "Contents",
   "toc_cell": false,
   "toc_position": {},
   "toc_section_display": true,
   "toc_window_display": false
  },
  "varInspector": {
   "cols": {
    "lenName": 16,
    "lenType": 16,
    "lenVar": 40
   },
   "kernels_config": {
    "python": {
     "delete_cmd_postfix": "",
     "delete_cmd_prefix": "del ",
     "library": "var_list.py",
     "varRefreshCmd": "print(var_dic_list())"
    },
    "r": {
     "delete_cmd_postfix": ") ",
     "delete_cmd_prefix": "rm(",
     "library": "var_list.r",
     "varRefreshCmd": "cat(var_dic_list()) "
    }
   },
   "types_to_exclude": [
    "module",
    "function",
    "builtin_function_or_method",
    "instance",
    "_Feature"
   ],
   "window_display": false
  }
 },
 "nbformat": 4,
 "nbformat_minor": 2
}
